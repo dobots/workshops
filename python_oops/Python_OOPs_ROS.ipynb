{
 "cells": [
  {
   "cell_type": "markdown",
   "metadata": {},
   "source": [
    "# Object Oriented Programming in ROS\n",
    "\n",
    "## Sources\n",
    "1. https://roboticsbackend.com/oop-with-ros-in-python/\n",
    "2. http://wiki.ros.org/Services\n",
    "3. http://wiki.ros.org/Topics\n",
    "\n",
    "\n",
    "\n",
    "## Important Terms:-\n",
    "1. ROS Topics\n",
    "    1. A Publisher-Subscriber model\n",
    "    2. Intended for unidirectional, streaming communication\n",
    "    3. Eg, Sending the location of a robot\n",
    "2. ROS Service\n",
    "    1. A Client-Server model\n",
    "    2. One time communication having a Request/Response (Unlike ROS Topics)\n",
    "    3. Eg, Spawning a robot to simulator"
   ]
  },
  {
   "cell_type": "markdown",
   "metadata": {},
   "source": [
    "## This Notebook's Application \n",
    "A simple number counter with:-\n",
    "1. A ROS subscriber that receives a number from an external output. Upon reception, the number will be added to a counter.\n",
    "2. A ROS publisher that publishes the new counter as soon as a number has been received and added to the existing counter.\n",
    "3. A ROS service is used to reset the counter. If you call this service, the counter value will come back to 0.\n"
   ]
  },
  {
   "cell_type": "markdown",
   "metadata": {},
   "source": [
    "## The Publisher"
   ]
  },
  {
   "cell_type": "code",
   "execution_count": null,
   "metadata": {},
   "outputs": [],
   "source": [
    "#!/usr/bin/env python\n",
    "# license removed for brevity\n",
    "import rospy\n",
    "from std_msgs.msg import Int64\n",
    "\n",
    "def talker():\n",
    "    pub = rospy.Publisher('/number', Int64, queue_size=10)\n",
    "    rospy.init_node('talker', anonymous=True)\n",
    "    rate = rospy.Rate(1) # 1hz\n",
    "    counter_message = Int64()\n",
    "    counter_message.data = 0\n",
    "    while not rospy.is_shutdown():\n",
    "        counter_message.data += 1\n",
    "        pub.publish(counter_message)\n",
    "        rate.sleep()\n",
    "\n",
    "if __name__ == '__main__':\n",
    "    try:\n",
    "        talker()\n",
    "    except rospy.ROSInterruptException:\n",
    "        pass"
   ]
  },
  {
   "cell_type": "markdown",
   "metadata": {},
   "source": [
    "## Subscriber without OOPs"
   ]
  },
  {
   "cell_type": "code",
   "execution_count": null,
   "metadata": {},
   "outputs": [],
   "source": [
    "#!/usr/bin/env python\n",
    "\n",
    "import rospy\n",
    "from std_msgs.msg import Int64\n",
    "from std_srvs.srv import SetBool\n",
    "\n",
    "counter = 0\n",
    "pub = None\n",
    "\n",
    "def callback_number(msg):\n",
    "    global counter\n",
    "    counter += msg.data\n",
    "    new_msg = Int64()\n",
    "    new_msg.data = counter\n",
    "    rospy.loginfo(\"Received Data: {}, Counter Value: {}\".format(msg.data, new_msg.data))\n",
    "    pub.publish(new_msg)\n",
    "\n",
    "def callback_reset_counter(req):\n",
    "    if req.data:\n",
    "        global counter\n",
    "        counter = 0\n",
    "        return True, \"Counter has been successfully reset\"\n",
    "    return False, \"Counter has not been reset\"\n",
    "\n",
    "if __name__ == '__main__':\n",
    "    rospy.init_node('number_counter') \n",
    "    pub = rospy.Publisher(\"/number_count\", Int64, queue_size=10)\n",
    "    sub = rospy.Subscriber(\"/number\", Int64, callback_number)\n",
    "    reset_service = rospy.Service(\"/reset_counter\", SetBool, callback_reset_counter)\n",
    "    rospy.spin()"
   ]
  },
  {
   "cell_type": "markdown",
   "metadata": {},
   "source": [
    "### Drawbacks \n",
    "1. Unscalable - Global Declaration of variables and publishers makes it difficult to scale the application upwards.\n",
    "2. Unpredictable - The behaviour is difficult to predict when the same global variable is used by multiple entities"
   ]
  },
  {
   "cell_type": "markdown",
   "metadata": {},
   "source": [
    "## Subscriber with OOPs"
   ]
  },
  {
   "cell_type": "code",
   "execution_count": null,
   "metadata": {},
   "outputs": [],
   "source": [
    "#!/usr/bin/env python\n",
    "\n",
    "import rospy\n",
    "from std_msgs.msg import Int64\n",
    "from std_srvs.srv import SetBool\n",
    "\n",
    "class NumberCounter:\n",
    "\n",
    "    def __init__(self):\n",
    "        self.counter = 0\n",
    "        self.pub = rospy.Publisher(\"/number_count\", Int64, queue_size=10)\n",
    "        self.number_subscriber = rospy.Subscriber(\"/number\", Int64, self.callback_number)\n",
    "        self.reset_service = rospy.Service(\"/reset_counter\", SetBool, self.callback_reset_counter)\n",
    "\n",
    "    def callback_number(self, msg):\n",
    "        self.counter += msg.data\n",
    "        new_msg = Int64()\n",
    "        new_msg.data = self.counter\n",
    "        rospy.loginfo(\"Received Data: {}, Counter Value: {}\".format(msg.data, new_msg.data))\n",
    "        self.pub.publish(new_msg)\n",
    "\n",
    "    def callback_reset_counter(self, req):\n",
    "        if req.data:\n",
    "            self.counter = 0\n",
    "            return True, \"Counter has been successfully reset\"\n",
    "        return False, \"Counter has not been reset\"\n",
    "\n",
    "if __name__ == '__main__':\n",
    "    rospy.init_node('number_counter')\n",
    "    NumberCounter()\n",
    "    rospy.spin()"
   ]
  },
  {
   "cell_type": "markdown",
   "metadata": {},
   "source": [
    "## Comparison\n",
    "\n",
    "1. Scalable - Can create multiple instances of the same class\n",
    "2. Encapsulation - Each NumberCounter Object can access itself\n",
    "2. Modular - Different Functionalities can be written without dirupting the old"
   ]
  },
  {
   "cell_type": "code",
   "execution_count": null,
   "metadata": {},
   "outputs": [],
   "source": [
    "# Publisher"
   ]
  },
  {
   "cell_type": "code",
   "execution_count": null,
   "metadata": {},
   "outputs": [],
   "source": []
  }
 ],
 "metadata": {
  "kernelspec": {
   "display_name": "Python 3",
   "language": "python",
   "name": "python3"
  },
  "language_info": {
   "codemirror_mode": {
    "name": "ipython",
    "version": 3
   },
   "file_extension": ".py",
   "mimetype": "text/x-python",
   "name": "python",
   "nbconvert_exporter": "python",
   "pygments_lexer": "ipython3",
   "version": "3.6.9"
  }
 },
 "nbformat": 4,
 "nbformat_minor": 2
}
